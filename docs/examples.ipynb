{
 "cells": [
  {
   "cell_type": "markdown",
   "metadata": {},
   "source": [
    "# PlWordNet Demo"
   ]
  },
  {
   "cell_type": "markdown",
   "metadata": {},
   "source": [
    "## Utility code"
   ]
  },
  {
   "cell_type": "code",
   "execution_count": 1,
   "metadata": {
    "ExecuteTime": {
     "end_time": "2021-11-27T19:21:24.435298Z",
     "start_time": "2021-11-27T19:21:24.432558Z"
    }
   },
   "outputs": [],
   "source": [
    "from time import time\n",
    "\n",
    "# just a simple class for measuring execution time\n",
    "class timer:\n",
    "    def __enter__(s):\n",
    "        s.t = time()\n",
    "    def __exit__(s,x,y,z):\n",
    "        print(f'took {time() - s.t:.2f} seconds')"
   ]
  },
  {
   "cell_type": "markdown",
   "metadata": {},
   "source": [
    "## Loading `PlWordNet`"
   ]
  },
  {
   "cell_type": "code",
   "execution_count": 2,
   "metadata": {
    "ExecuteTime": {
     "end_time": "2021-11-27T19:03:14.355118Z",
     "start_time": "2021-11-27T19:03:14.314019Z"
    }
   },
   "outputs": [],
   "source": [
    "import plwordnet"
   ]
  },
  {
   "cell_type": "markdown",
   "metadata": {},
   "source": [
    "You can load .xml, .pkl files. They can also be compressed gzip, lzma or bzip2 (.gz/.xz/.bz2).\n",
    "\n",
    "Alternatively, you can pass an opened file object (rb) to `load`.\n",
    "\n",
    "Passing the emotion/sentiment file is optional.\n",
    "\n",
    "The argument `full_parse=True` causes the lexical unit descriptions to be parsed after loading."
   ]
  },
  {
   "cell_type": "code",
   "execution_count": 3,
   "metadata": {
    "ExecuteTime": {
     "end_time": "2021-11-27T19:03:47.754326Z",
     "start_time": "2021-11-27T19:03:14.357103Z"
    },
    "scrolled": true
   },
   "outputs": [
    {
     "name": "stdout",
     "output_type": "stream",
     "text": [
      "took 32.87 seconds\n"
     ]
    }
   ],
   "source": [
    "with timer():\n",
    "    wn = plwordnet.load('../local/plwordnet_4_2.xml', '../local/sentiment_4_2.csv', full_parse=True)"
   ]
  },
  {
   "cell_type": "markdown",
   "metadata": {},
   "source": [
    "Calling `str` on `Wordnet` shows basic statistics."
   ]
  },
  {
   "cell_type": "code",
   "execution_count": 4,
   "metadata": {
    "ExecuteTime": {
     "end_time": "2021-11-27T19:03:47.764073Z",
     "start_time": "2021-11-27T19:03:47.755124Z"
    }
   },
   "outputs": [
    {
     "data": {
      "text/plain": [
       "Słowosieć\n",
       "  lexical units: 513410\n",
       "  synsets: 353585\n",
       "  relation types: 306\n",
       "  synset relations: 1477851\n",
       "  lexical relations: 393137\n",
       "  emotional annotations: 60438\n",
       "  rich descriptions: 294496"
      ]
     },
     "execution_count": 4,
     "metadata": {},
     "output_type": "execute_result"
    }
   ],
   "source": [
    "wn"
   ]
  },
  {
   "cell_type": "code",
   "execution_count": 23,
   "metadata": {
    "ExecuteTime": {
     "end_time": "2021-11-27T19:03:47.783404Z",
     "start_time": "2021-11-27T19:03:47.765534Z"
    },
    "scrolled": false
   },
   "outputs": [
    {
     "name": "stdout",
     "output_type": "stream",
     "text": [
      "LEXICAL RELATIONS\n",
      "rola: materiał → jabłko.1\n",
      "\n",
      "SYNSET RELATIONS\n",
      "Hipo_plWN-PWN → {fruity.1}\n",
      "międzyjęzykowa_synonimia_międzyparadygmatyczna_made_of_plWN-PWN → {apple.1}\n",
      "hiponimia → {owocowy.1}\n",
      "hiperonimia ← {owocowy.1}\n",
      "cecha_definicyjna ← {tatanka.1 szarlotka.2}\n",
      "Hiper_PWN-plWN ← {fruity.1}\n",
      "\n"
     ]
    }
   ],
   "source": [
    "print(wn.show_relations(wn.find('jabłkowy.1')))"
   ]
  },
  {
   "cell_type": "markdown",
   "metadata": {},
   "source": [
    "Pickle the `Wordnet` object for faster loading. Note that the pickled object may not be compatible between different `plwordnet` library versions."
   ]
  },
  {
   "cell_type": "code",
   "execution_count": 6,
   "metadata": {
    "ExecuteTime": {
     "end_time": "2021-11-27T19:03:58.096441Z",
     "start_time": "2021-11-27T19:03:47.784209Z"
    }
   },
   "outputs": [],
   "source": [
    "wn.dump('../local/plwordnet_4_2.pkl')"
   ]
  },
  {
   "cell_type": "code",
   "execution_count": 7,
   "metadata": {
    "ExecuteTime": {
     "end_time": "2021-11-27T19:04:08.790534Z",
     "start_time": "2021-11-27T19:03:58.097287Z"
    }
   },
   "outputs": [
    {
     "name": "stdout",
     "output_type": "stream",
     "text": [
      "took 10.38 seconds\n"
     ]
    }
   ],
   "source": [
    "with timer():\n",
    "    wn_from_pickle = plwordnet.load('../local/plwordnet_4_2.pkl')"
   ]
  },
  {
   "cell_type": "markdown",
   "metadata": {},
   "source": [
    "## Examples "
   ]
  },
  {
   "cell_type": "markdown",
   "metadata": {},
   "source": [
    "Find all lexical units with a given name (case-insensitive)"
   ]
  },
  {
   "cell_type": "code",
   "execution_count": 25,
   "metadata": {
    "ExecuteTime": {
     "end_time": "2021-11-27T19:04:08.804475Z",
     "start_time": "2021-11-27T19:04:08.800182Z"
    }
   },
   "outputs": [
    {
     "name": "stdout",
     "output_type": "stream",
     "text": [
      "jabłko.1\n",
      "jabłko.2\n"
     ]
    }
   ],
   "source": [
    "for lu in wn.find('jabłko'):\n",
    "    print(lu)"
   ]
  },
  {
   "cell_type": "markdown",
   "metadata": {},
   "source": [
    "Get a specific LU variant. Notice the pretty printing of lexical units in Jupyter!"
   ]
  },
  {
   "cell_type": "code",
   "execution_count": 24,
   "metadata": {
    "ExecuteTime": {
     "end_time": "2021-11-27T19:04:08.825683Z",
     "start_time": "2021-11-27T19:04:08.805295Z"
    }
   },
   "outputs": [],
   "source": [
    "lu = wn.find('jabłko.1')"
   ]
  },
  {
   "cell_type": "code",
   "execution_count": 10,
   "metadata": {
    "ExecuteTime": {
     "end_time": "2021-11-27T19:04:08.847168Z",
     "start_time": "2021-11-27T19:04:08.826740Z"
    }
   },
   "outputs": [
    {
     "data": {
      "text/html": [
       "<style>th, td { text-align: left !important; }</style><table width=500><colgroup><col span=\"1\" style=\"width: 20%;\"><col span=\"1\" style=\"width: 80%\"></colgroup><thead><tr><th>#12131</th><td>NOUN PL jabłko 1</td></tr></thead><tr><th>DEFINITION</th><td>owoc (wielopestkowiec) jabłoni.</td></tr><tr><th>DOMAIN</th><td>jedz</td></tr><tr><th>EXAMPLES</th><td>Jabłka są kształtem zbliżone do kuli, z zagłębieniem na szczycie, z którego wystaje ogonek.</td></tr><tr><th>LINKS</th><td><a target=\"_blank\" href=\"http://pl.wikipedia.org/wiki/Jab%C5%82ko\">http://pl.wikipedia.org/wiki/Jab%C5%82ko</a></td></tr></table>"
      ],
      "text/plain": [
       "LexicalUnit(id=12131, name='jabłko', variant=1, pos_pl='rzeczownik', pos='NOUN', language='pl', domain='jedz', tag_count=0, description='##K: og. ##D: owoc (wielopestkowiec) jabłoni. [##P: Jabłka są kształtem zbliżone do kuli, z zagłębieniem na szczycie, z którego wystaje ogonek.] {##L: http://pl.wikipedia.org/wiki/Jab%C5%82ko}', rich_description=Description(qualifier='og.', definition='owoc (wielopestkowiec) jabłoni.', examples=['Jabłka są kształtem zbliżone do kuli, z zagłębieniem na szczycie, z którego wystaje ogonek.'], links=['http://pl.wikipedia.org/wiki/Jab%C5%82ko'], unparsed=' ', from_synset=False), sentiment=[], synset=Synset(id=4605, definition='', split=1, abstract=False, description='', lexical_units=[...]))"
      ]
     },
     "execution_count": 10,
     "metadata": {},
     "output_type": "execute_result"
    }
   ],
   "source": [
    "lu"
   ]
  },
  {
   "cell_type": "code",
   "execution_count": 11,
   "metadata": {
    "ExecuteTime": {
     "end_time": "2021-11-27T19:04:08.877977Z",
     "start_time": "2021-11-27T19:04:08.848958Z"
    }
   },
   "outputs": [
    {
     "data": {
      "text/html": [
       "<style>th, td { text-align: left !important; }</style><table width=500><colgroup><col span=\"1\" style=\"width: 20%;\"><col span=\"1\" style=\"width: 80%\"></colgroup><thead><tr><th>#14</th><td>ADJ PL abstrakcyjny 1</td></tr></thead><tr><th>DEFINITION</th><td>oryginalny, niesztampowy, nieco oderwany od rzeczywistości.</td></tr><tr><th>DOMAIN</th><td>jak</td></tr><tr><th>EXAMPLES</th><td>Był to dość abstrakcyjny pomysł, zwłaszcza w Łodzi, gdzie nikt nie słyszał ani o Piłsudskim, ani o „Sokole” czy „Zarzewiu”, do których Jerzy dołączył w Krakowie.<br><br>Mam abstrakcyjny pomysł na wakacje, ale to się może udać!</td></tr><tr><th>SENTIMENT ANNOTATION</th><td><table><tr><th>POLARITY</th><td>strong negative</td></tr><tr><th>EMOTIONS</th><td>wstręt, złość, zaskoczenie</td></tr><tr><th>VALUATIONS</th><td>niewiedza, błąd, nieużyteczność</td></tr><tr><th>EXAMPLES</th><td>Jej propozycje są zupełnie abstrakcyjne, nie do zastosowania w świecie realnym.</td></tr></table></td></tr><tr><th>SENTIMENT ANNOTATION</th><td><table><tr><th>POLARITY</th><td>strong negative</td></tr><tr><th>EMOTIONS</th><td>wstręt, złość</td></tr><tr><th>VALUATIONS</th><td>niewiedza, błąd, nieużyteczność</td></tr><tr><th>EXAMPLES</th><td>Nie wiem, jak powinnam powiedzieć mężowi, że jego plan jest totalnie abstrakcyjny i nic z tego nie wyjdzie.</td></tr></table></td></tr></table>"
      ],
      "text/plain": [
       "LexicalUnit(id=14, name='abstrakcyjny', variant=1, pos_pl='przymiotnik', pos='ADJ', language='pl', domain='jak', tag_count=92, description='##K: og. ##D: oryginalny, niesztampowy, nieco oderwany od rzeczywistości. [##P: Był to dość abstrakcyjny pomysł, zwłaszcza w Łodzi, gdzie nikt nie słyszał ani o Piłsudskim, ani o „Sokole” czy „Zarzewiu”, do których Jerzy dołączył w Krakowie.] [##P: Mam abstrakcyjny pomysł na wakacje, ale to się może udać!] ##A1: {złość, wstręt, zaskoczenie; nieużyteczność, niewiedza, błąd} - s [Jej propozycje są zupełnie abstrakcyjne, nie do zastosowania w świecie realnym.] ##A2: {złość, wstręt; nieużyteczność, niewiedza, błąd} - s [Nie wiem, jak powinnam powiedzieć mężowi, że jego plan jest totalnie abstrakcyjny i nic z tego nie wyjdzie.]', rich_description=Description(qualifier='og.', definition='oryginalny, niesztampowy, nieco oderwany od rzeczywistości.', examples=['Był to dość abstrakcyjny pomysł, zwłaszcza w Łodzi, gdzie nikt nie słyszał ani o Piłsudskim, ani o „Sokole” czy „Zarzewiu”, do których Jerzy dołączył w Krakowie.', 'Mam abstrakcyjny pomysł na wakacje, ale to się może udać!'], links=[], unparsed='  ', from_synset=False), sentiment=[EmotionalAnnotation(polarity=-2, emotions=['wstręt', 'złość', 'zaskoczenie'], valuations=['niewiedza', 'błąd', 'nieużyteczność'], examples=['Jej propozycje są zupełnie abstrakcyjne, nie do zastosowania w świecie realnym.']), EmotionalAnnotation(polarity=-2, emotions=['wstręt', 'złość'], valuations=['niewiedza', 'błąd', 'nieużyteczność'], examples=['Nie wiem, jak powinnam powiedzieć mężowi, że jego plan jest totalnie abstrakcyjny i nic z tego nie wyjdzie.'])], synset=Synset(id=103631, definition='', split=1, abstract=False, description='', lexical_units=[...]))"
      ]
     },
     "execution_count": 11,
     "metadata": {},
     "output_type": "execute_result"
    }
   ],
   "source": [
    "wn.find('abstrakcyjny.1')"
   ]
  },
  {
   "cell_type": "markdown",
   "metadata": {},
   "source": [
    "Show some relations and their ids"
   ]
  },
  {
   "cell_type": "code",
   "execution_count": 12,
   "metadata": {
    "ExecuteTime": {
     "end_time": "2021-11-27T19:04:08.894704Z",
     "start_time": "2021-11-27T19:04:08.879011Z"
    },
    "scrolled": false
   },
   "outputs": [
    {
     "name": "stdout",
     "output_type": "stream",
     "text": [
      "---\n",
      "10, hiponimia, relacja pomiędzy synsetami\n",
      "Relacja łącząca znaczenie z drugim, ogólniejszym, niż to pierwsze, ale należącym do tej samej części mowy, co ono.\n",
      "---\n",
      "11, hiperonimia, relacja pomiędzy synsetami\n",
      "Relacja łącząca znaczenie z drugim, szczegółowszym, niż to pierwsze, ale należącym do tej samej części mowy, co ono.\n",
      "---\n",
      "12, antonimia, relacja leksykalna\n",
      "Relacja łącząca przeciwne znaczenia reprezentowane przez tę samą część mowy. Może być właściwa, kiedy oprócz przeciwnych znaczeń X i Y dopuszczamy istnienie jakiegoś Z, lub komplementarna, kiedy nie dopuszczamy takiej możliwości (istnieje albo X, albo Y).\n",
      "---\n",
      "13, konwersja, relacja leksykalna\n",
      "Relacja łącząca znaczenia reprezentowane przez tę samą część mowy, które opisują to samo zjawisko, ale z dwóch różnych (przeciwnych sobie) punktów widzenia.\n",
      "---\n",
      "14, meronimia, relacja pomiędzy synsetami\n",
      "Relacja łączy rzeczownik, który jest częścią (porcją, elementem grupy, miejscem, materiałem) czegoś innego, z drugim rzeczownikiem, oznaczającym całość w stosunku do części.\n"
     ]
    }
   ],
   "source": [
    "for x in list(wn.relation_types.values())[:5]:\n",
    "    print('---')\n",
    "    print(x.id, x.name, x.type, sep=', ')\n",
    "    print(x.description)"
   ]
  },
  {
   "cell_type": "markdown",
   "metadata": {},
   "source": [
    "Show first 10 synset relations with predicate 11 (hyperonymy). Use the short relation name for printing."
   ]
  },
  {
   "cell_type": "code",
   "execution_count": 13,
   "metadata": {
    "ExecuteTime": {
     "end_time": "2021-11-27T19:04:09.144317Z",
     "start_time": "2021-11-27T19:04:08.895625Z"
    },
    "scrolled": true
   },
   "outputs": [
    {
     "name": "stdout",
     "output_type": "stream",
     "text": [
      "{rozmowa.1 konwersacja.1 dialog.1 dyskurs.1} hipero {pogawędka.1 pogaduszka.1 pogwarka.1 pogaducha.1 rozmówka.1 gawędka.1 gawęda.3 gadu-gadu.1}\n",
      "{rozmowa.1 konwersacja.1 dialog.1 dyskurs.1} hipero {dyskusja.1 dysputa.1 debata.1 debatowanie.3 dysputacja.1}\n",
      "{brudas.2 smoluch.2} hipero {rumun.3}\n",
      "{dyskusja.1 dysputa.1 debata.1 debatowanie.3 dysputacja.1} hipero {obrady.1 posiedzenie.7 rada.3 narada.1 sesja.2}\n",
      "{zranić.2} hipero {odstręczyć.1 zrazić.1}\n",
      "{wypowiedź.1} hipero {przemówienie.6 przemowa.1 mowa.1}\n",
      "{tekst.3} hipero {rozprawa.2 elaborat.1 traktat.1}\n",
      "{komunikat.1} hipero {aluzja.1}\n",
      "{wypowiedź.1} hipero {orzeczenie.1 postanowienie.2}\n",
      "{ciapaty.1 ciapek.2} hipero {pakol.1}\n"
     ]
    }
   ],
   "source": [
    "REL = wn.relation_by_name # NOTE: works with tab completion!\n",
    "for s, p, o in wn.synset_relations_where(predicate=REL['hiperonimia'])[:10]:\n",
    "    print(p.format(s, o, short=True))"
   ]
  },
  {
   "cell_type": "markdown",
   "metadata": {},
   "source": [
    "Show all relations where a lexical unit 'miód.1' is a subject or an object:"
   ]
  },
  {
   "cell_type": "code",
   "execution_count": 14,
   "metadata": {
    "ExecuteTime": {
     "end_time": "2021-11-27T19:44:20.591137Z",
     "start_time": "2021-11-27T19:44:20.576101Z"
    }
   },
   "outputs": [
    {
     "name": "stdout",
     "output_type": "stream",
     "text": [
      "LEXICAL RELATIONS\n",
      "ekspresywność | augmentatywność → pies.2\n",
      "\n",
      "SYNSET RELATIONS\n",
      "Hipo_plWN-PWN → {dog.1 domestic dog.1 Canis familiaris.1}\n",
      "ekspresywność | augmentatywność → {pies.1}\n",
      "hiperonimia → {wega.1}\n",
      "Hiper_PWN-plWN ← {dog.1 domestic dog.1 Canis familiaris.1}\n",
      "hiponimia ← {wega.1}\n",
      "\n"
     ]
    }
   ],
   "source": [
    "print(wn.show_relations(wn.find('psisko.1')))"
   ]
  },
  {
   "cell_type": "markdown",
   "metadata": {},
   "source": [
    "Show all subjects of relations with predicate 13 (konwersja), where a lexical unit with lemma 'prababcia' is an object. Also show the part of speech and synset of the found subjects."
   ]
  },
  {
   "cell_type": "code",
   "execution_count": 15,
   "metadata": {
    "ExecuteTime": {
     "end_time": "2021-11-27T19:04:09.169819Z",
     "start_time": "2021-11-27T19:04:09.148955Z"
    }
   },
   "outputs": [
    {
     "name": "stdout",
     "output_type": "stream",
     "text": [
      "---\n",
      "prawnuczę.1\n",
      "part of speech = NOUN\n",
      "synset = {prawnuczę.1}\n",
      "---\n",
      "prawnuk.1\n",
      "part of speech = NOUN\n",
      "synset = {prawnuk.1 prawnuczek.1}\n",
      "---\n",
      "prawnuczka.1\n",
      "part of speech = NOUN\n",
      "synset = {prawnuczka.1}\n"
     ]
    }
   ],
   "source": [
    "for lu in wn.find('prababcia'):\n",
    "    for s, p, o in wn.lexical_relations_where(predicate=REL['konwersja'], object=lu):\n",
    "        print('---')\n",
    "        print(s)\n",
    "        print('part of speech =', s.pos)\n",
    "        print('synset =', s.synset)"
   ]
  },
  {
   "cell_type": "code",
   "execution_count": 16,
   "metadata": {
    "ExecuteTime": {
     "end_time": "2021-11-27T19:04:09.186507Z",
     "start_time": "2021-11-27T19:04:09.170860Z"
    }
   },
   "outputs": [
    {
     "name": "stdout",
     "output_type": "stream",
     "text": [
      "{owoc.2}\n",
      "{wielopestkowiec.1}\n"
     ]
    }
   ],
   "source": [
    "lu = wn.find('jabłko.1')\n",
    "for synset in wn.hypernyms(lu.synset):\n",
    "    print(synset)"
   ]
  },
  {
   "cell_type": "code",
   "execution_count": 17,
   "metadata": {
    "ExecuteTime": {
     "end_time": "2021-11-27T19:04:09.205126Z",
     "start_time": "2021-11-27T19:04:09.187695Z"
    }
   },
   "outputs": [
    {
     "name": "stdout",
     "output_type": "stream",
     "text": [
      "{bankroft.2}\n",
      "{boiken.1}\n",
      "{golden.1}\n",
      "{jonatan.2}\n",
      "{koksa.2}\n",
      "{jabłko przemysłowe.1}\n",
      "{kosztela.2}\n",
      "{idared.1}\n",
      "{lobo.1}\n",
      "{szmalcówka.1}\n",
      "{grochówka.3}\n",
      "{malinówka.3}\n",
      "{mekintosz.1}\n",
      "{papierówka.2}\n",
      "{reneta.2}\n",
      "{jabłko deserowe.1}\n",
      "{szampion.3}\n",
      "{kronselka.2}\n",
      "{jonagold.2}\n",
      "{kortland.2 cortland.2}\n",
      "{gala.3}\n",
      "{czempion.4}\n",
      "{ligol.2}\n",
      "{antonówka.2}\n"
     ]
    }
   ],
   "source": [
    "for synset in wn.hyponyms(lu.synset):\n",
    "    print(synset)"
   ]
  },
  {
   "cell_type": "markdown",
   "metadata": {},
   "source": [
    "Find a hypernym path from Afryka.1 to a synset with no hypernyms"
   ]
  },
  {
   "cell_type": "code",
   "execution_count": 18,
   "metadata": {
    "ExecuteTime": {
     "end_time": "2021-11-27T19:04:09.232110Z",
     "start_time": "2021-11-27T19:04:09.206538Z"
    }
   },
   "outputs": [
    {
     "name": "stdout",
     "output_type": "stream",
     "text": [
      "{kontynent.2} -> \n",
      "{ląd.1 ziemia.4} -> \n",
      "{obszar.1 rejon.3 obręb.1} -> \n",
      "{przestrzeń.1}\n"
     ]
    }
   ],
   "source": [
    "path = wn.hypernym_paths(wn.find('Afryka.1').synset)[0]\n",
    "print(' -> \\n'.join(str(x) for x in path))"
   ]
  },
  {
   "cell_type": "code",
   "execution_count": 29,
   "metadata": {},
   "outputs": [
    {
     "name": "stdout",
     "output_type": "stream",
     "text": [
      "{kontynent.2} -> {ląd.1 ziemia.4} -> {obszar.1 rejon.3 obręb.1} -> {przestrzeń.1}\n",
      "{kontynent.2} -> {ląd.1 ziemia.4} -> {obszar.1 rejon.3 obręb.1} -> {location.1} -> {object.1 physical object.1} -> {physical entity.1} -> {entity.1}\n",
      "{kontynent.2} -> {ląd.1 ziemia.4} -> {land.4 dry land.1 earth.3 ground.1 solid ground.1 terra firma.1} -> {object.1 physical object.1} -> {physical entity.1} -> {entity.1}\n"
     ]
    }
   ],
   "source": [
    "for path in wn.hypernym_paths(wn.find('Afryka.1').synset, full_search=True, interlingual=True):\n",
    "    print(' -> '.join(str(x) for x in path))"
   ]
  },
  {
   "cell_type": "markdown",
   "metadata": {},
   "source": [
    "Find all hypernym paths from jabłko.1 to synsets with no hypernyms"
   ]
  },
  {
   "cell_type": "code",
   "execution_count": 26,
   "metadata": {
    "ExecuteTime": {
     "end_time": "2021-11-27T19:21:33.783021Z",
     "start_time": "2021-11-27T19:21:33.780622Z"
    }
   },
   "outputs": [
    {
     "name": "stdout",
     "output_type": "stream",
     "text": [
      "{owoc.2} -> {produkt rolny.1} -> {produkt.1} -> {wytwór.1 twór.5}\n",
      "{wielopestkowiec.1} -> {owoc zbiorowy.2} -> {owoc rzekomy.1 owoc pozorny.1 owoc szupinkowy.1 szupinka.1} -> {owoc.1} -> {wytwór roślinny.1} -> {obiekt organiczny.1} -> {obiekt.2} -> {coś.1}\n"
     ]
    }
   ],
   "source": [
    "for path in wn.hypernym_paths(wn.find('jabłko.1').synset, full_search=True):\n",
    "    print(' -> '.join(str(x) for x in path))"
   ]
  },
  {
   "cell_type": "code",
   "execution_count": null,
   "metadata": {},
   "outputs": [],
   "source": []
  }
 ],
 "metadata": {
  "kernelspec": {
   "display_name": "Python 3 (ipykernel)",
   "language": "python",
   "name": "python3"
  },
  "language_info": {
   "codemirror_mode": {
    "name": "ipython",
    "version": 3
   },
   "file_extension": ".py",
   "mimetype": "text/x-python",
   "name": "python",
   "nbconvert_exporter": "python",
   "pygments_lexer": "ipython3",
   "version": "3.9.7"
  },
  "varInspector": {
   "cols": {
    "lenName": 16,
    "lenType": 16,
    "lenVar": 40
   },
   "kernels_config": {
    "python": {
     "delete_cmd_postfix": "",
     "delete_cmd_prefix": "del ",
     "library": "var_list.py",
     "varRefreshCmd": "print(var_dic_list())"
    },
    "r": {
     "delete_cmd_postfix": ") ",
     "delete_cmd_prefix": "rm(",
     "library": "var_list.r",
     "varRefreshCmd": "cat(var_dic_list()) "
    }
   },
   "types_to_exclude": [
    "module",
    "function",
    "builtin_function_or_method",
    "instance",
    "_Feature"
   ],
   "window_display": false
  }
 },
 "nbformat": 4,
 "nbformat_minor": 4
}
